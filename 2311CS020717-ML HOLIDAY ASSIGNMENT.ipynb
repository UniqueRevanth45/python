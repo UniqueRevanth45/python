{
 "cells": [
  {
   "cell_type": "code",
   "execution_count": 1,
   "id": "934a1651-ce99-49de-bb35-206267e302a4",
   "metadata": {},
   "outputs": [
    {
     "name": "stdout",
     "output_type": "stream",
     "text": [
      "[10, 30.0, 30, 30.0, 50]\n"
     ]
    }
   ],
   "source": [
    "def replace_missing_with_mean(numbers):\n",
    "    valid_numbers = [num for num in numbers if num is not None]\n",
    "    mean = sum(valid_numbers) / len(valid_numbers)\n",
    "    return [num if num is not None else mean for num in numbers]\n",
    "\n",
    "input_list = [10, None, 30, None, 50]\n",
    "print(replace_missing_with_mean(input_list))"
   ]
  },
  {
   "cell_type": "code",
   "execution_count": 2,
   "id": "ab3e99ae-2683-4cc1-99c9-4efe8dd099b8",
   "metadata": {},
   "outputs": [
    {
     "name": "stdout",
     "output_type": "stream",
     "text": [
      "[0.0, 0.25, 0.5, 0.75, 1.0]\n"
     ]
    }
   ],
   "source": [
    "def min_max_scaling(numbers):\n",
    "    min_val = min(numbers)\n",
    "    max_val = max(numbers)\n",
    "    return [(x - min_val) / (max_val - min_val) for x in numbers]\n",
    "\n",
    "input_list = [20, 40, 60, 80, 100]\n",
    "print(min_max_scaling(input_list))"
   ]
  },
  {
   "cell_type": "code",
   "execution_count": 3,
   "id": "6c7475ab-0761-427b-9c6e-3c03d6a34416",
   "metadata": {},
   "outputs": [
    {
     "name": "stdout",
     "output_type": "stream",
     "text": [
      "[0, 1, 0, 1]\n"
     ]
    }
   ],
   "source": [
    "def binarize_list(numbers, threshold):\n",
    "    return [1 if x >= threshold else 0 for x in numbers]\n",
    "\n",
    "input_list = [1.5, 2.3, 0.8, 3.0]\n",
    "threshold = 2.0\n",
    "print(binarize_list(input_list, threshold))"
   ]
  },
  {
   "cell_type": "code",
   "execution_count": 4,
   "id": "ebc917ae-9b96-4ee6-b02a-62262e917522",
   "metadata": {},
   "outputs": [
    {
     "name": "stdout",
     "output_type": "stream",
     "text": [
      "[5, 7, 9]\n"
     ]
    }
   ],
   "source": [
    "def approximate_function(inputs):\n",
    "    return [2*x + 3 for x in inputs]\n",
    "\n",
    "inputs = [1, 2, 3]\n",
    "print(approximate_function(inputs))"
   ]
  },
  {
   "cell_type": "code",
   "execution_count": 5,
   "id": "9ce791a6-cf7f-4269-b81d-f00648036068",
   "metadata": {},
   "outputs": [
    {
     "name": "stdout",
     "output_type": "stream",
     "text": [
      "[5, 7, 9]\n"
     ]
    }
   ],
   "source": [
    "def approximate_function(inputs):\n",
    "    return [2*x + 3 for x in inputs]\n",
    "\n",
    "inputs = [1, 2, 3]\n",
    "print(approximate_function(inputs))"
   ]
  },
  {
   "cell_type": "code",
   "execution_count": 6,
   "id": "b6d5e69d-3c98-4af2-864f-af600c18acba",
   "metadata": {},
   "outputs": [
    {
     "name": "stdout",
     "output_type": "stream",
     "text": [
      "[-1.3416407864998738, -0.4472135954999579, 0.4472135954999579, 1.3416407864998738]\n"
     ]
    }
   ],
   "source": [
    "def standardize_list(numbers):\n",
    "    mean = sum(numbers) / len(numbers)\n",
    "    std_dev = (sum([(x - mean)**2 for x in numbers]) / len(numbers))**0.5\n",
    "    return [(x - mean) / std_dev for x in numbers]\n",
    "\n",
    "input_list = [10, 20, 30, 40]\n",
    "print(standardize_list(input_list))"
   ]
  },
  {
   "cell_type": "code",
   "execution_count": 7,
   "id": "9f350cef-701c-4f8b-99d9-5a7d043233d0",
   "metadata": {},
   "outputs": [
    {
     "name": "stdout",
     "output_type": "stream",
     "text": [
      "{'A': [1, 3, 5], 'B': [2, 4]}\n"
     ]
    }
   ],
   "source": [
    "def create_concept_representation(data, labels):\n",
    "    concept_representation = {}\n",
    "    for point, label in zip(data, labels):\n",
    "        if label not in concept_representation:\n",
    "            concept_representation[label] = []\n",
    "        concept_representation[label].append(point)\n",
    "    return concept_representation\n",
    "\n",
    "data = [1, 2, 3, 4, 5]\n",
    "labels = [\"A\", \"B\", \"A\", \"B\", \"A\"]\n",
    "print(create_concept_representation(data, labels))"
   ]
  },
  {
   "cell_type": "code",
   "execution_count": 8,
   "id": "0cb52748-42a9-4f4d-83d2-a1353baf841b",
   "metadata": {},
   "outputs": [
    {
     "name": "stdout",
     "output_type": "stream",
     "text": [
      "Supervised Learning\n"
     ]
    }
   ],
   "source": [
    "def categorize_ml_task(description):\n",
    "    if \"predict\" in description.lower() or \"classify\" in description.lower():\n",
    "        return \"Supervised Learning\"\n",
    "    return \"Unsupervised Learning\"\n",
    "\n",
    "description = \"Predict the price of a house based on features like size, location, and age.\"\n",
    "print(categorize_ml_task(description))"
   ]
  },
  {
   "cell_type": "code",
   "execution_count": 9,
   "id": "c86502fa-066f-4e5c-b007-c5606eb612d6",
   "metadata": {},
   "outputs": [
    {
     "name": "stdout",
     "output_type": "stream",
     "text": [
      "Unsupervised Learning\n"
     ]
    }
   ],
   "source": [
    "def categorize_ml_task(description):\n",
    "    if \"predict\" in description.lower() or \"classify\" in description.lower():\n",
    "        return \"Supervised Learning\"\n",
    "    return \"Unsupervised Learning\"\n",
    "\n",
    "description = \"Group customers based on their purchasing patterns.\"\n",
    "print(categorize_ml_task(description))"
   ]
  },
  {
   "cell_type": "code",
   "execution_count": 10,
   "id": "9053d7e6-92e5-43c1-9796-6e13e392f802",
   "metadata": {},
   "outputs": [
    {
     "name": "stdout",
     "output_type": "stream",
     "text": [
      "13.0\n"
     ]
    }
   ],
   "source": [
    "def predict_y(m, c, x):\n",
    "    return m * x + c\n",
    "\n",
    "m = 2.0\n",
    "c = 3.0\n",
    "x = 5.0\n",
    "print(predict_y(m, c, x))"
   ]
  },
  {
   "cell_type": "code",
   "execution_count": 11,
   "id": "4902b62a-5822-49e3-aef0-23177404afd7",
   "metadata": {},
   "outputs": [
    {
     "name": "stdout",
     "output_type": "stream",
     "text": [
      "[1, 2, 3, 4, 8]\n"
     ]
    }
   ],
   "source": [
    "def remove_duplicates_and_sort(data):\n",
    "    return sorted(set(data))\n",
    "\n",
    "input_list = [4, 2, 2, 8, 3, 3, 1]\n",
    "print(remove_duplicates_and_sort(input_list))"
   ]
  }
 ],
 "metadata": {
  "kernelspec": {
   "display_name": "Python 3 (ipykernel)",
   "language": "python",
   "name": "python3"
  },
  "language_info": {
   "codemirror_mode": {
    "name": "ipython",
    "version": 3
   },
   "file_extension": ".py",
   "mimetype": "text/x-python",
   "name": "python",
   "nbconvert_exporter": "python",
   "pygments_lexer": "ipython3",
   "version": "3.11.5"
  }
 },
 "nbformat": 4,
 "nbformat_minor": 5
}
